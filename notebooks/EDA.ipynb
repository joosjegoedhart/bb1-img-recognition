{
 "cells": [
  {
   "cell_type": "code",
   "execution_count": 2,
   "id": "20833c46",
   "metadata": {},
   "outputs": [],
   "source": [
    "import pandas as pd\n",
    "import os"
   ]
  },
  {
   "cell_type": "markdown",
   "id": "09d73d84",
   "metadata": {},
   "source": [
    "# Exploratory Data Analysis\n",
    "Explore the distribution of the labels of the test set. "
   ]
  },
  {
   "cell_type": "code",
   "execution_count": 3,
   "id": "e45dda44",
   "metadata": {},
   "outputs": [],
   "source": [
    "data_path = os.path.join(os.getcwd(), 'data')"
   ]
  },
  {
   "cell_type": "code",
   "execution_count": 6,
   "id": "a575aff6",
   "metadata": {},
   "outputs": [],
   "source": [
    "labels_train_path = os.path.join(data_path, 'train', 'labels.csv')\n",
    "labels_train = pd.read_csv(labels_train_path)"
   ]
  },
  {
   "cell_type": "code",
   "execution_count": 11,
   "id": "6cf3c1ae",
   "metadata": {},
   "outputs": [
    {
     "data": {
      "text/html": [
       "<div>\n",
       "<style scoped>\n",
       "    .dataframe tbody tr th:only-of-type {\n",
       "        vertical-align: middle;\n",
       "    }\n",
       "\n",
       "    .dataframe tbody tr th {\n",
       "        vertical-align: top;\n",
       "    }\n",
       "\n",
       "    .dataframe thead th {\n",
       "        text-align: right;\n",
       "    }\n",
       "</style>\n",
       "<table border=\"1\" class=\"dataframe\">\n",
       "  <thead>\n",
       "    <tr style=\"text-align: right;\">\n",
       "      <th></th>\n",
       "      <th>name</th>\n",
       "      <th>skin_tone</th>\n",
       "      <th>gender</th>\n",
       "      <th>age</th>\n",
       "    </tr>\n",
       "  </thead>\n",
       "  <tbody>\n",
       "    <tr>\n",
       "      <th>892</th>\n",
       "      <td>TRAIN0892.png</td>\n",
       "      <td>monk_2</td>\n",
       "      <td>female</td>\n",
       "      <td>18_30</td>\n",
       "    </tr>\n",
       "  </tbody>\n",
       "</table>\n",
       "</div>"
      ],
      "text/plain": [
       "              name skin_tone  gender    age\n",
       "892  TRAIN0892.png    monk_2  female  18_30"
      ]
     },
     "execution_count": 11,
     "metadata": {},
     "output_type": "execute_result"
    }
   ],
   "source": [
    "labels_train.loc[labels_train['name'] == 'TRAIN0892.png']"
   ]
  },
  {
   "cell_type": "code",
   "execution_count": null,
   "id": "78b02695",
   "metadata": {},
   "outputs": [],
   "source": []
  }
 ],
 "metadata": {
  "kernelspec": {
   "display_name": "Python 3 (ipykernel)",
   "language": "python",
   "name": "python3"
  },
  "language_info": {
   "codemirror_mode": {
    "name": "ipython",
    "version": 3
   },
   "file_extension": ".py",
   "mimetype": "text/x-python",
   "name": "python",
   "nbconvert_exporter": "python",
   "pygments_lexer": "ipython3",
   "version": "3.8.0"
  }
 },
 "nbformat": 4,
 "nbformat_minor": 5
}
